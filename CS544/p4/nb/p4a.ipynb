{
 "cells": [
  {
   "cell_type": "code",
   "execution_count": 1,
   "id": "52c6950c-6588-4650-a673-83d514d1e976",
   "metadata": {},
   "outputs": [],
   "source": [
    "# project 4 notebook a"
   ]
  },
  {
   "cell_type": "code",
   "execution_count": 2,
   "id": "82bb7de1-03c4-442d-b10e-5bba1388e127",
   "metadata": {},
   "outputs": [
    {
     "name": "stdout",
     "output_type": "stream",
     "text": [
      "Configured Capacity: 51642105856 (48.10 GB)\n",
      "Present Capacity: 35200245760 (32.78 GB)\n",
      "DFS Remaining: 35200196608 (32.78 GB)\n",
      "DFS Used: 49152 (48 KB)\n",
      "DFS Used%: 0.00%\n",
      "Replicated Blocks:\n",
      "\tUnder replicated blocks: 0\n",
      "\tBlocks with corrupt replicas: 0\n",
      "\tMissing blocks: 0\n",
      "\tMissing blocks (with replication factor 1): 0\n",
      "\tLow redundancy blocks with highest priority to recover: 0\n",
      "\tPending deletion blocks: 0\n",
      "Erasure Coded Block Groups: \n",
      "\tLow redundancy block groups: 0\n",
      "\tBlock groups with corrupt internal blocks: 0\n",
      "\tMissing block groups: 0\n",
      "\tLow redundancy blocks with highest priority to recover: 0\n",
      "\tPending deletion blocks: 0\n",
      "\n",
      "-------------------------------------------------\n",
      "Live datanodes (2):\n",
      "\n",
      "Name: 172.18.0.4:9866 (p4-dn-1.p4_default)\n",
      "Hostname: 18e00c58ba78\n",
      "Decommission Status : Normal\n",
      "Configured Capacity: 25821052928 (24.05 GB)\n",
      "DFS Used: 24576 (24 KB)\n",
      "Non DFS Used: 8204152832 (7.64 GB)\n",
      "DFS Remaining: 17600098304 (16.39 GB)\n",
      "DFS Used%: 0.00%\n",
      "DFS Remaining%: 68.16%\n",
      "Configured Cache Capacity: 0 (0 B)\n",
      "Cache Used: 0 (0 B)\n",
      "Cache Remaining: 0 (0 B)\n",
      "Cache Used%: 100.00%\n",
      "Cache Remaining%: 0.00%\n",
      "Xceivers: 0\n",
      "Last contact: Wed Oct 25 20:00:38 GMT 2023\n",
      "Last Block Report: Wed Oct 25 19:57:15 GMT 2023\n",
      "Num of Blocks: 0\n",
      "\n",
      "\n",
      "Name: 172.18.0.5:9866 (p4-dn-2.p4_default)\n",
      "Hostname: 00e8e0912048\n",
      "Decommission Status : Normal\n",
      "Configured Capacity: 25821052928 (24.05 GB)\n",
      "DFS Used: 24576 (24 KB)\n",
      "Non DFS Used: 8204152832 (7.64 GB)\n",
      "DFS Remaining: 17600098304 (16.39 GB)\n",
      "DFS Used%: 0.00%\n",
      "DFS Remaining%: 68.16%\n",
      "Configured Cache Capacity: 0 (0 B)\n",
      "Cache Used: 0 (0 B)\n",
      "Cache Remaining: 0 (0 B)\n",
      "Cache Used%: 100.00%\n",
      "Cache Remaining%: 0.00%\n",
      "Xceivers: 0\n",
      "Last contact: Wed Oct 25 20:00:38 GMT 2023\n",
      "Last Block Report: Wed Oct 25 19:57:15 GMT 2023\n",
      "Num of Blocks: 0\n",
      "\n",
      "\n"
     ]
    }
   ],
   "source": [
    "#q1\n",
    "!hdfs dfsadmin -fs hdfs://boss:9000 -report"
   ]
  },
  {
   "cell_type": "code",
   "execution_count": 3,
   "id": "0977193b-ac38-4d50-aae3-8d34d986e495",
   "metadata": {},
   "outputs": [],
   "source": [
    "![ ! -e \"hdma-wi-2021.csv\" ] && wget \"https://pages.cs.wisc.edu/~harter/cs544/data/hdma-wi-2021.csv\""
   ]
  },
  {
   "cell_type": "code",
   "execution_count": 4,
   "id": "a5e0fad4-55b2-470a-9ed3-d026d146a307",
   "metadata": {},
   "outputs": [],
   "source": [
    "!hdfs dfs -D dfs.block.size=1048576 -D dfs.replication=1 -cp hdma-wi-2021.csv hdfs://boss:9000/single.csv\n",
    "!hdfs dfs -D dfs.block.size=1048576 -D dfs.replication=2 -cp hdma-wi-2021.csv hdfs://boss:9000/double.csv"
   ]
  },
  {
   "cell_type": "code",
   "execution_count": 5,
   "id": "fe678703-211a-4deb-bf18-02ad58244550",
   "metadata": {},
   "outputs": [],
   "source": [
    "# # # use for clear the files\n",
    "# !hdfs dfs -rm -f hdfs://boss:9000/single.csv\n",
    "# !hdfs dfs -rm -f hdfs://boss:9000/double.csv"
   ]
  },
  {
   "cell_type": "code",
   "execution_count": 6,
   "id": "0459aa40-69e7-4f6e-824a-281a26c60006",
   "metadata": {},
   "outputs": [
    {
     "name": "stdout",
     "output_type": "stream",
     "text": [
      "166.8 M  333.7 M  hdfs://boss:9000/double.csv\n",
      "166.8 M  166.8 M  hdfs://boss:9000/single.csv\n"
     ]
    }
   ],
   "source": [
    "#q2\n",
    "!hdfs dfs -du -h hdfs://boss:9000/"
   ]
  },
  {
   "cell_type": "code",
   "execution_count": 7,
   "id": "3f156bee-eaa1-4069-bf28-202631ac4378",
   "metadata": {},
   "outputs": [
    {
     "data": {
      "text/plain": [
       "{'FileStatus': {'accessTime': 1698264044910,\n",
       "  'blockSize': 1048576,\n",
       "  'childrenNum': 0,\n",
       "  'fileId': 16386,\n",
       "  'group': 'supergroup',\n",
       "  'length': 174944099,\n",
       "  'modificationTime': 1698264052174,\n",
       "  'owner': 'root',\n",
       "  'pathSuffix': '',\n",
       "  'permission': '644',\n",
       "  'replication': 1,\n",
       "  'storagePolicy': 0,\n",
       "  'type': 'FILE'}}"
      ]
     },
     "execution_count": 7,
     "metadata": {},
     "output_type": "execute_result"
    }
   ],
   "source": [
    "#q3\n",
    "import requests\n",
    "r3 = requests.get(\"http://boss:9870/webhdfs/v1/single.csv?op=GETFILESTATUS\")\n",
    "r3.json()"
   ]
  },
  {
   "cell_type": "code",
   "execution_count": 8,
   "id": "04331595-27ae-4019-9607-262e9ebffae9",
   "metadata": {},
   "outputs": [
    {
     "data": {
      "text/plain": [
       "'http://00e8e0912048:9864/webhdfs/v1/single.csv?op=OPEN&namenoderpcaddress=boss:9000&offset=0'"
      ]
     },
     "execution_count": 8,
     "metadata": {},
     "output_type": "execute_result"
    }
   ],
   "source": [
    "#q4\n",
    "r4 = requests.get(\"http://boss:9870/webhdfs/v1/single.csv?op=OPEN&offset=0&noredirect=true\")\n",
    "r4.json()[\"Location\"]"
   ]
  },
  {
   "cell_type": "code",
   "execution_count": 9,
   "id": "b2f2711c-a8d8-4f98-8055-f921c8b06147",
   "metadata": {},
   "outputs": [
    {
     "data": {
      "text/plain": [
       "{'00e8e0912048': 85, '18e00c58ba78': 82}"
      ]
     },
     "execution_count": 9,
     "metadata": {},
     "output_type": "execute_result"
    }
   ],
   "source": [
    "#q5\n",
    "container_locations = {}\n",
    "for offset in range(0, r3.json()[\"FileStatus\"][\"length\"], r3.json()[\"FileStatus\"][\"blockSize\"]):\n",
    "    req = requests.get(\"http://boss:9870/webhdfs/v1/single.csv?op=OPEN&offset={}&noredirect=true\".format(offset))\n",
    "    output_str = req.json()[\"Location\"]\n",
    "    container_loc = (output_str.split(\"/\")[2].split(\":\")[0])\n",
    "    if container_loc not in container_locations:\n",
    "        container_locations[container_loc] = 1\n",
    "    else:\n",
    "        container_locations[container_loc] += 1\n",
    "\n",
    "container_locations"
   ]
  },
  {
   "cell_type": "code",
   "execution_count": 10,
   "id": "91e46124-d275-4622-8869-48d80169844b",
   "metadata": {},
   "outputs": [
    {
     "name": "stderr",
     "output_type": "stream",
     "text": [
      "2023-10-25 20:01:13,050 WARN util.NativeCodeLoader: Unable to load native-hadoop library for your platform... using builtin-java classes where applicable\n"
     ]
    }
   ],
   "source": [
    "import pyarrow as pa\n",
    "import pyarrow.fs\n",
    "hdfs = pa.fs.HadoopFileSystem(\"boss\", 9000)"
   ]
  },
  {
   "cell_type": "code",
   "execution_count": 11,
   "id": "5e2cb200-466e-498f-826b-5f5f2f33f296",
   "metadata": {},
   "outputs": [
    {
     "data": {
      "text/plain": [
       "b'activity_y'"
      ]
     },
     "execution_count": 11,
     "metadata": {},
     "output_type": "execute_result"
    }
   ],
   "source": [
    "#q6\n",
    "output = None\n",
    "with hdfs.open_input_file(\"/single.csv\") as file:\n",
    "    output = file.read_at(nbytes=10, offset=0)\n",
    "output"
   ]
  },
  {
   "cell_type": "code",
   "execution_count": 12,
   "id": "a6344605-a5e2-4233-a3d3-5b3a1a9fb194",
   "metadata": {},
   "outputs": [
    {
     "data": {
      "text/plain": [
       "444874"
      ]
     },
     "execution_count": 12,
     "metadata": {},
     "output_type": "execute_result"
    }
   ],
   "source": [
    "#q7\n",
    "import io\n",
    "\n",
    "target = \"Single Family\"\n",
    "count = 0\n",
    "with hdfs.open_input_file(\"/single.csv\") as file:\n",
    "    reader = io.TextIOWrapper(io.BufferedReader(file))\n",
    "    for line in reader:\n",
    "        if line.find(target) != -1:\n",
    "            count += 1\n",
    "count"
   ]
  }
 ],
 "metadata": {
  "kernelspec": {
   "display_name": "Python 3 (ipykernel)",
   "language": "python",
   "name": "python3"
  },
  "language_info": {
   "codemirror_mode": {
    "name": "ipython",
    "version": 3
   },
   "file_extension": ".py",
   "mimetype": "text/x-python",
   "name": "python",
   "nbconvert_exporter": "python",
   "pygments_lexer": "ipython3",
   "version": "3.10.12"
  }
 },
 "nbformat": 4,
 "nbformat_minor": 5
}
