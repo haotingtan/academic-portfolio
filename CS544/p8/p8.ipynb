{
 "cells": [
  {
   "cell_type": "code",
   "execution_count": 1,
   "id": "b5ca349c-0557-42d8-a9e3-aee7689a99cb",
   "metadata": {},
   "outputs": [],
   "source": [
    "# project 8"
   ]
  },
  {
   "cell_type": "code",
   "execution_count": 2,
   "id": "37e381d5-302d-4cf1-af28-a6e2b61b3ab4",
   "metadata": {},
   "outputs": [],
   "source": [
    "from google.cloud import bigquery\n",
    "bq = bigquery.Client()\n",
    "no_cache = bigquery.QueryJobConfig(use_query_cache=False)\n",
    "%load_ext google.cloud.bigquery"
   ]
  },
  {
   "cell_type": "code",
   "execution_count": 3,
   "id": "278443bc-646d-4d6d-8e57-e30216f30381",
   "metadata": {},
   "outputs": [],
   "source": [
    "q1 = bq.query(\n",
    "\"\"\"\n",
    "SELECT geo_id\n",
    "FROM bigquery-public-data.geo_us_boundaries.counties\n",
    "WHERE county_name='Dane'\n",
    "\"\"\", job_config = no_cache\n",
    ")\n",
    "q1_df = q1.to_dataframe()"
   ]
  },
  {
   "cell_type": "code",
   "execution_count": 4,
   "id": "ce6c43b0-5565-4c69-8ef8-25dc9fe4560d",
   "metadata": {},
   "outputs": [
    {
     "data": {
      "text/plain": [
       "'55025'"
      ]
     },
     "execution_count": 4,
     "metadata": {},
     "output_type": "execute_result"
    }
   ],
   "source": [
    "#q1\n",
    "str(q1_df.iloc[0, 0])"
   ]
  },
  {
   "cell_type": "code",
   "execution_count": 5,
   "id": "4582cc41-c77c-46a9-8e0f-866e3c83ff8d",
   "metadata": {},
   "outputs": [],
   "source": [
    "q2 = bq.query(\n",
    "\"\"\"\n",
    "SELECT state_fips_code, COUNT(*) AS count\n",
    "FROM bigquery-public-data.geo_us_boundaries.counties\n",
    "GROUP BY state_fips_code\n",
    "ORDER BY count DESC\n",
    "LIMIT 5\n",
    "\"\"\", job_config = no_cache\n",
    ")\n",
    "q2_df = q2.to_dataframe()"
   ]
  },
  {
   "cell_type": "code",
   "execution_count": 6,
   "id": "b16cc239-5c5e-48f5-8585-056f27968946",
   "metadata": {},
   "outputs": [
    {
     "data": {
      "text/plain": [
       "{'48': 254, '13': 159, '51': 133, '21': 120, '29': 115}"
      ]
     },
     "execution_count": 6,
     "metadata": {},
     "output_type": "execute_result"
    }
   ],
   "source": [
    "#q2\n",
    "q2_result = {}\n",
    "for _,row in q2_df.iterrows():\n",
    "    q2_result[row[\"state_fips_code\"]] = row[\"count\"]\n",
    "q2_result"
   ]
  },
  {
   "cell_type": "code",
   "execution_count": 7,
   "id": "a63eadcf-55c0-49a9-ad33-3cd2d41aeba3",
   "metadata": {},
   "outputs": [
    {
     "data": {
      "text/plain": [
       "{'q1': 5.9604644775390625e-05, 'q2': 5.9604644775390625e-05}"
      ]
     },
     "execution_count": 7,
     "metadata": {},
     "output_type": "execute_result"
    }
   ],
   "source": [
    "#q3\n",
    "tb = 1024 ** 4\n",
    "price_per_tb = 6.25\n",
    "q3_result = {}\n",
    "q3_result[\"q1\"] = price_per_tb * q1.total_bytes_billed/tb\n",
    "q3_result[\"q2\"] = price_per_tb * q2.total_bytes_billed/tb\n",
    "q3_result"
   ]
  },
  {
   "cell_type": "code",
   "execution_count": 8,
   "id": "e42bcf46-0918-4f68-a884-ddeed3f78859",
   "metadata": {},
   "outputs": [],
   "source": [
    "dataset_id = f\"{bq.project}.p8\"\n",
    "dataset = bigquery.Dataset(dataset_id)\n",
    "dataset.Location = \"US\"\n",
    "dataset = bq.create_dataset(dataset, exists_ok = True)"
   ]
  },
  {
   "cell_type": "code",
   "execution_count": 9,
   "id": "e58aac32-3f1a-4d8e-8a36-43838d7562b5",
   "metadata": {},
   "outputs": [],
   "source": [
    "table_id = f\"{bq.project}.p8.hdma\"\n",
    "job_config = bigquery.LoadJobConfig(source_format=bigquery.SourceFormat.PARQUET)\n",
    "uri = \"gs://cs544_p8/hdma-wi-2021.parquet\"\n",
    "load_job = bq.load_table_from_uri(\n",
    "    uri, table_id, job_config=job_config\n",
    ")"
   ]
  },
  {
   "cell_type": "code",
   "execution_count": 10,
   "id": "23948f7b-3382-43a4-88bf-c8656bbda1c7",
   "metadata": {},
   "outputs": [
    {
     "data": {
      "text/plain": [
       "['p8']"
      ]
     },
     "execution_count": 10,
     "metadata": {},
     "output_type": "execute_result"
    }
   ],
   "source": [
    "#q4\n",
    "[ds.dataset_id for ds in bq.list_datasets(f\"{bq.project}\")]"
   ]
  },
  {
   "cell_type": "code",
   "execution_count": 11,
   "id": "4dca8933-b61a-487f-96ca-07d5a9302458",
   "metadata": {},
   "outputs": [],
   "source": [
    "q5 = bq.query(\n",
    "\"\"\"\n",
    "SELECT c.county_name AS county_name, COUNT(*) AS count,\n",
    "FROM {}.p8.hdma AS h\n",
    "LEFT JOIN bigquery-public-data.geo_us_boundaries.counties AS c\n",
    "ON h.county_code=c.geo_id\n",
    "GROUP BY county_name\n",
    "ORDER BY count DESC\n",
    "LIMIT 10\n",
    "\"\"\".format(bq.project)\n",
    ")\n",
    "q5_df = q5.to_dataframe()"
   ]
  },
  {
   "cell_type": "code",
   "execution_count": 12,
   "id": "9bb417e7-5a69-4bf5-9828-07104990a336",
   "metadata": {},
   "outputs": [
    {
     "data": {
      "text/plain": [
       "{'Milwaukee': 46570,\n",
       " 'Dane': 38557,\n",
       " 'Waukesha': 34159,\n",
       " 'Brown': 15615,\n",
       " 'Racine': 13007,\n",
       " 'Outagamie': 11523,\n",
       " 'Kenosha': 10744,\n",
       " 'Washington': 10726,\n",
       " 'Rock': 9834,\n",
       " 'Winnebago': 9310}"
      ]
     },
     "execution_count": 12,
     "metadata": {},
     "output_type": "execute_result"
    }
   ],
   "source": [
    "#q5\n",
    "q5_result = {}\n",
    "for _, row in q5_df.iterrows():\n",
    "    q5_result[row[\"county_name\"]] = row[\"count\"]\n",
    "q5_result"
   ]
  },
  {
   "cell_type": "code",
   "execution_count": 13,
   "id": "a4507986-da26-4107-9e8a-8e59f744319f",
   "metadata": {},
   "outputs": [],
   "source": [
    "url = \"https://docs.google.com/spreadsheets/d/11UeIBqQylAyNUBsIO54p6WiYJWHayQMfHDbUWq1jGco/\"\n",
    "\n",
    "external_config = bigquery.ExternalConfig(\"GOOGLE_SHEETS\")\n",
    "external_config.source_uris = [url]\n",
    "external_config.options.skip_leading_rows = 1\n",
    "external_config.autodetect = True\n",
    "\n",
    "table = bigquery.Table(f\"{bq.project}.p8.applications\")\n",
    "table.external_data_configuration = external_config\n",
    "\n",
    "table = bq.create_table(table, exists_ok=True)"
   ]
  },
  {
   "cell_type": "code",
   "execution_count": 14,
   "id": "fa3dbc9e-9e79-4b2c-9d16-b3b34c04bb64",
   "metadata": {},
   "outputs": [],
   "source": [
    "q6 = bq.query(\n",
    "\"\"\"\n",
    "SELECT COUNT(*) as num_applications\n",
    "FROM {}.p8.applications\n",
    "WHERE income=150000\n",
    "\"\"\".format(bq.project)\n",
    ")\n",
    "q6_df = q6.to_dataframe()"
   ]
  },
  {
   "cell_type": "code",
   "execution_count": 15,
   "id": "af1db63e-441a-45e6-9e1a-733df1398339",
   "metadata": {},
   "outputs": [
    {
     "data": {
      "text/plain": [
       "1"
      ]
     },
     "execution_count": 15,
     "metadata": {},
     "output_type": "execute_result"
    }
   ],
   "source": [
    "#q6\n",
    "q6_df.iloc[0, 0]"
   ]
  },
  {
   "cell_type": "code",
   "execution_count": 16,
   "id": "2c2a881c-a997-46a8-bc04-f00b30b308d8",
   "metadata": {},
   "outputs": [],
   "source": [
    "q7 = bq.query(\n",
    "\"\"\"\n",
    "SELECT counties.county_name AS county_name, COUNT(*) AS count\n",
    "FROM {}.p8.applications AS apps\n",
    "JOIN bigquery-public-data.geo_us_boundaries.counties AS counties\n",
    "ON ST_CONTAINS(counties.county_geom, ST_GEOGPOINT(apps.longitude, apps.latitude))\n",
    "WHERE counties.state_fips_code = '55'\n",
    "GROUP BY counties.county_name\n",
    "\"\"\".format(bq.project)\n",
    ")\n",
    "q7_df = q7.to_dataframe()"
   ]
  },
  {
   "cell_type": "code",
   "execution_count": 17,
   "id": "44b3e37c-1000-4c85-86bf-d2875737a99f",
   "metadata": {},
   "outputs": [
    {
     "data": {
      "text/plain": [
       "{'Dane': 16,\n",
       " 'Monroe': 1,\n",
       " 'Outagamie': 1,\n",
       " 'Barron': 2,\n",
       " 'Door': 5,\n",
       " 'Walworth': 2,\n",
       " 'Marinette': 2,\n",
       " 'Oneida': 1,\n",
       " 'Kewaunee': 1,\n",
       " 'Brown': 2,\n",
       " 'Bayfield': 2,\n",
       " 'Sheboygan': 2,\n",
       " 'Sauk': 1,\n",
       " 'Green Lake': 1,\n",
       " 'Columbia': 1,\n",
       " 'Jefferson': 1}"
      ]
     },
     "execution_count": 17,
     "metadata": {},
     "output_type": "execute_result"
    }
   ],
   "source": [
    "#q7\n",
    "q7_result = {}\n",
    "for _, row in q7_df.iterrows():\n",
    "    q7_result[row[\"county_name\"]] = row[\"count\"]\n",
    "q7_result"
   ]
  },
  {
   "cell_type": "code",
   "execution_count": 18,
   "id": "65521542-feb5-445e-bd65-e53179ef95fe",
   "metadata": {},
   "outputs": [
    {
     "data": {
      "application/vnd.jupyter.widget-view+json": {
       "model_id": "9e973145bea449e1b13205acfa462375",
       "version_major": 2,
       "version_minor": 0
      },
      "text/plain": [
       "Query is running:   0%|          |"
      ]
     },
     "metadata": {},
     "output_type": "display_data"
    },
    {
     "data": {
      "text/html": [
       "<div>\n",
       "<style scoped>\n",
       "    .dataframe tbody tr th:only-of-type {\n",
       "        vertical-align: middle;\n",
       "    }\n",
       "\n",
       "    .dataframe tbody tr th {\n",
       "        vertical-align: top;\n",
       "    }\n",
       "\n",
       "    .dataframe thead th {\n",
       "        text-align: right;\n",
       "    }\n",
       "</style>\n",
       "<table border=\"1\" class=\"dataframe\">\n",
       "  <thead>\n",
       "    <tr style=\"text-align: right;\">\n",
       "      <th></th>\n",
       "    </tr>\n",
       "  </thead>\n",
       "  <tbody>\n",
       "  </tbody>\n",
       "</table>\n",
       "</div>"
      ],
      "text/plain": [
       "Empty DataFrame\n",
       "Columns: []\n",
       "Index: []"
      ]
     },
     "execution_count": 18,
     "metadata": {},
     "output_type": "execute_result"
    }
   ],
   "source": [
    "%%bigquery\n",
    "CREATE OR REPLACE MODEL p8.lr\n",
    "OPTIONS(model_type=\"LINEAR_REG\", INPUT_LABEL_COLS=[\"loan_amount\"])\n",
    "\n",
    "AS\n",
    "\n",
    "SELECT loan_amount, income, loan_term\n",
    "FROM p8.hdma"
   ]
  },
  {
   "cell_type": "code",
   "execution_count": 19,
   "id": "2e78827c-9f3c-4eac-9388-4718363e41c4",
   "metadata": {},
   "outputs": [],
   "source": [
    "import time\n",
    "while True:\n",
    "    models = bq.list_models(f\"{bq.project}.p8\")\n",
    "    if any(model.model_id == \"lr\" for model in models):\n",
    "        break\n",
    "    time.sleep(5)"
   ]
  },
  {
   "cell_type": "code",
   "execution_count": 20,
   "id": "74274963-37f0-434e-8ecb-91e87ed43fcc",
   "metadata": {},
   "outputs": [
    {
     "data": {
      "application/vnd.jupyter.widget-view+json": {
       "model_id": "ace1ba98f7884111bfd72a21668ee262",
       "version_major": 2,
       "version_minor": 0
      },
      "text/plain": [
       "Query is running:   0%|          |"
      ]
     },
     "metadata": {},
     "output_type": "display_data"
    },
    {
     "data": {
      "application/vnd.jupyter.widget-view+json": {
       "model_id": "cbb28201ee454b2a91b2472d35e8f24f",
       "version_major": 2,
       "version_minor": 0
      },
      "text/plain": [
       "Downloading:   0%|          |"
      ]
     },
     "metadata": {},
     "output_type": "display_data"
    }
   ],
   "source": [
    "%%bigquery q8_df\n",
    "SELECT *\n",
    "FROM ML.EVALUATE(MODEL p8.lr, (\n",
    "    SELECT loan_amount, income, loan_term\n",
    "    FROM p8.hdma\n",
    "))"
   ]
  },
  {
   "cell_type": "code",
   "execution_count": 21,
   "id": "03502fb2-9be8-4294-88b9-f9a61c29c725",
   "metadata": {},
   "outputs": [
    {
     "data": {
      "text/plain": [
       "0.29165346922392066"
      ]
     },
     "execution_count": 21,
     "metadata": {},
     "output_type": "execute_result"
    }
   ],
   "source": [
    "#q8\n",
    "q8_df.at[0, \"r2_score\"]"
   ]
  },
  {
   "cell_type": "code",
   "execution_count": 22,
   "id": "28dde474-f5e7-450c-9356-ac98d7fb6918",
   "metadata": {},
   "outputs": [
    {
     "data": {
      "application/vnd.jupyter.widget-view+json": {
       "model_id": "5654366384ab4a3b80d7a5d6f42d7b2e",
       "version_major": 2,
       "version_minor": 0
      },
      "text/plain": [
       "Query is running:   0%|          |"
      ]
     },
     "metadata": {},
     "output_type": "display_data"
    },
    {
     "data": {
      "application/vnd.jupyter.widget-view+json": {
       "model_id": "79db75780f5f45a79bca48e877d19c23",
       "version_major": 2,
       "version_minor": 0
      },
      "text/plain": [
       "Downloading:   0%|          |"
      ]
     },
     "metadata": {},
     "output_type": "display_data"
    }
   ],
   "source": [
    "%%bigquery q9_df\n",
    "SELECT *\n",
    "FROM ML.WEIGHTS(MODEL p8.lr)"
   ]
  },
  {
   "cell_type": "code",
   "execution_count": 23,
   "id": "d2d0f025-a869-4cdc-a408-7287c489a5e4",
   "metadata": {},
   "outputs": [
    {
     "data": {
      "text/plain": [
       "0.804631025398982"
      ]
     },
     "execution_count": 23,
     "metadata": {},
     "output_type": "execute_result"
    }
   ],
   "source": [
    "#q9\n",
    "q9_df.iloc[0, 1]"
   ]
  },
  {
   "cell_type": "code",
   "execution_count": 24,
   "id": "a6f0c9ca-6e03-4481-83a4-c860a117fbd7",
   "metadata": {},
   "outputs": [
    {
     "data": {
      "application/vnd.jupyter.widget-view+json": {
       "model_id": "ba5fbda94e05417ebab923761c94b42f",
       "version_major": 2,
       "version_minor": 0
      },
      "text/plain": [
       "Query is running:   0%|          |"
      ]
     },
     "metadata": {},
     "output_type": "display_data"
    },
    {
     "data": {
      "application/vnd.jupyter.widget-view+json": {
       "model_id": "619a2ac878864b039b44f577aafa446a",
       "version_major": 2,
       "version_minor": 0
      },
      "text/plain": [
       "Downloading:   0%|          |"
      ]
     },
     "metadata": {},
     "output_type": "display_data"
    }
   ],
   "source": [
    "%%bigquery q10_df\n",
    "SELECT * \n",
    "FROM ML.PREDICT(MODEL p8.lr, (\n",
    "    SELECT income, 360 as loan_term, loan_amount\n",
    "    FROM p8.applications\n",
    "))"
   ]
  },
  {
   "cell_type": "code",
   "execution_count": 25,
   "id": "16177141-7987-406c-b6d8-ad1e0a8513e9",
   "metadata": {},
   "outputs": [
    {
     "data": {
      "text/plain": [
       "0.6666666666666666"
      ]
     },
     "execution_count": 25,
     "metadata": {},
     "output_type": "execute_result"
    }
   ],
   "source": [
    "#q10\n",
    "ratio = (q10_df[\"loan_amount\"] > q10_df[\"predicted_loan_amount\"]).mean()\n",
    "ratio"
   ]
  }
 ],
 "metadata": {
  "kernelspec": {
   "display_name": "Python 3 (ipykernel)",
   "language": "python",
   "name": "python3"
  },
  "language_info": {
   "codemirror_mode": {
    "name": "ipython",
    "version": 3
   },
   "file_extension": ".py",
   "mimetype": "text/x-python",
   "name": "python",
   "nbconvert_exporter": "python",
   "pygments_lexer": "ipython3",
   "version": "3.10.12"
  }
 },
 "nbformat": 4,
 "nbformat_minor": 5
}
