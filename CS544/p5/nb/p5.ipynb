{
 "cells": [
  {
   "cell_type": "code",
   "execution_count": 1,
   "id": "c562c25a-8422-4c6b-a528-b3da1f7f29da",
   "metadata": {},
   "outputs": [],
   "source": [
    "# Partner 1: Haoting Tan  \n",
    "# Partner 2: Lin Ha"
   ]
  },
  {
   "cell_type": "code",
   "execution_count": 2,
   "id": "28de1a54-a3ad-4348-b861-90a12213625c",
   "metadata": {},
   "outputs": [],
   "source": [
    "!hdfs dfs -D dfs.replication=1 -cp -f data/*.csv hdfs://nn:9000/"
   ]
  },
  {
   "cell_type": "code",
   "execution_count": 3,
   "id": "57818134-4f54-4463-9ca5-fa3f7d52a96e",
   "metadata": {},
   "outputs": [],
   "source": [
    "# # use for remove all csv files\n",
    "# !hdfs dfs -rm -f hdfs://nn:9000/*.csv"
   ]
  },
  {
   "cell_type": "code",
   "execution_count": 4,
   "id": "b8e1d7cd-21d0-4a78-afb0-9771bb358b4c",
   "metadata": {
    "scrolled": true
   },
   "outputs": [
    {
     "name": "stderr",
     "output_type": "stream",
     "text": [
      "Setting default log level to \"WARN\".\n",
      "To adjust logging level use sc.setLogLevel(newLevel). For SparkR, use setLogLevel(newLevel).\n",
      "23/11/06 04:27:20 WARN NativeCodeLoader: Unable to load native-hadoop library for your platform... using builtin-java classes where applicable\n"
     ]
    }
   ],
   "source": [
    "from pyspark.sql import SparkSession\n",
    "spark = (SparkSession.builder.appName(\"cs544\")\n",
    "         .master(\"spark://boss:7077\")\n",
    "         .config(\"spark.executor.memory\", \"512M\")\n",
    "         .config(\"spark.sql.warehouse.dir\", \"hdfs://nn:9000/user/hive/warehouse\")\n",
    "         .enableHiveSupport()\n",
    "         .getOrCreate())"
   ]
  },
  {
   "cell_type": "code",
   "execution_count": 5,
   "id": "7914dfb0-d16a-47fc-883b-373158f93e1b",
   "metadata": {},
   "outputs": [
    {
     "name": "stderr",
     "output_type": "stream",
     "text": [
      "                                                                                \r"
     ]
    }
   ],
   "source": [
    "banks_df = spark.read.csv(\"hdfs://nn:9000/arid2017_to_lei_xref_csv.csv\", header=True, inferSchema=True)"
   ]
  },
  {
   "cell_type": "code",
   "execution_count": 6,
   "id": "ad8587ac-b414-435e-ae91-460d57b3f56b",
   "metadata": {},
   "outputs": [
    {
     "name": "stderr",
     "output_type": "stream",
     "text": [
      "                                                                                \r"
     ]
    },
    {
     "data": {
      "text/plain": [
       "525"
      ]
     },
     "execution_count": 6,
     "metadata": {},
     "output_type": "execute_result"
    }
   ],
   "source": [
    "#q1\n",
    "q1 = banks_df.rdd.filter(lambda row: \"first\" in row[\"respondent_name\"].lower())\n",
    "q1.count()"
   ]
  },
  {
   "cell_type": "code",
   "execution_count": 7,
   "id": "701319d7-f491-4da0-8571-70c03549c5d2",
   "metadata": {},
   "outputs": [
    {
     "name": "stderr",
     "output_type": "stream",
     "text": [
      "                                                                                \r"
     ]
    },
    {
     "data": {
      "text/plain": [
       "525"
      ]
     },
     "execution_count": 7,
     "metadata": {},
     "output_type": "execute_result"
    }
   ],
   "source": [
    "#q2\n",
    "from pyspark.sql.functions import lower, col\n",
    "q2 = banks_df.filter(lower(col(\"respondent_name\")).contains(\"first\"))\n",
    "q2.count()"
   ]
  },
  {
   "cell_type": "code",
   "execution_count": 8,
   "id": "9700c25b-8825-4033-a14a-e11a03137802",
   "metadata": {},
   "outputs": [
    {
     "name": "stderr",
     "output_type": "stream",
     "text": [
      "23/11/06 04:27:56 WARN HiveConf: HiveConf of name hive.stats.jdbc.timeout does not exist\n",
      "23/11/06 04:27:56 WARN HiveConf: HiveConf of name hive.stats.retries.wait does not exist\n",
      "23/11/06 04:28:02 WARN ObjectStore: Version information not found in metastore. hive.metastore.schema.verification is not enabled so recording the schema version 2.3.0\n",
      "23/11/06 04:28:02 WARN ObjectStore: setMetaStoreSchemaVersion called but recording version is disabled: version = 2.3.0, comment = Set by MetaStore UNKNOWN@172.21.0.6\n",
      "23/11/06 04:28:02 WARN ObjectStore: Failed to get database default, returning NoSuchObjectException\n",
      "23/11/06 04:28:05 WARN SessionState: METASTORE_FILTER_HOOK will be ignored, since hive.security.authorization.manager is set to instance of HiveAuthorizerFactory.\n",
      "23/11/06 04:28:06 WARN HiveConf: HiveConf of name hive.internal.ss.authz.settings.applied.marker does not exist\n",
      "23/11/06 04:28:06 WARN HiveConf: HiveConf of name hive.stats.jdbc.timeout does not exist\n",
      "23/11/06 04:28:06 WARN HiveConf: HiveConf of name hive.stats.retries.wait does not exist\n",
      "23/11/06 04:28:06 WARN ObjectStore: Failed to get database global_temp, returning NoSuchObjectException\n",
      "                                                                                \r"
     ]
    },
    {
     "data": {
      "text/plain": [
       "525"
      ]
     },
     "execution_count": 8,
     "metadata": {},
     "output_type": "execute_result"
    }
   ],
   "source": [
    "#q3\n",
    "banks_df.write.saveAsTable(\"banks\", mode=\"overwrite\")\n",
    "q3 = spark.sql(\"\"\"\n",
    "SELECT COUNT(*) AS count\n",
    "FROM banks\n",
    "WHERE LOWER(respondent_name) LIKE '%first%'\n",
    "\"\"\")\n",
    "q3.collect()[0][0]"
   ]
  },
  {
   "cell_type": "code",
   "execution_count": 9,
   "id": "930a7f2f-3095-4652-ba81-33d5850281c1",
   "metadata": {},
   "outputs": [
    {
     "name": "stderr",
     "output_type": "stream",
     "text": [
      "23/11/06 04:28:21 WARN SparkStringUtils: Truncated the string representation of a plan since it was too large. This behavior can be adjusted by setting 'spark.sql.debug.maxToStringFields'.\n",
      "                                                                                \r"
     ]
    }
   ],
   "source": [
    "loans_df = spark.read.csv(\"hdfs://nn:9000/hdma-wi-2021.csv\", header=True, inferSchema=True)\n",
    "(loans_df.write.bucketBy(8, 'county_code')\n",
    "     .mode(\"overwrite\")\n",
    "     .saveAsTable('loans'))\n",
    "\n",
    "name_list = [\"ethnicity\", \"race\", \"sex\", \"states\", \"counties\", \"tracts\", \"action_taken\",\n",
    " \"denial_reason\", \"loan_type\", \"loan_purpose\", \"preapproval\", \"property_type\"]\n",
    "\n",
    "for name in name_list:\n",
    "    df = spark.read.csv(f\"hdfs://nn:9000/{name}.csv\", header=True, inferSchema=True)\n",
    "    df.createOrReplaceTempView(name)"
   ]
  },
  {
   "cell_type": "code",
   "execution_count": 10,
   "id": "493f2b32-a7e7-4140-95e8-af8df570532d",
   "metadata": {},
   "outputs": [],
   "source": [
    "# use for dropping the view and delete the table\n",
    "# for name in name_list:\n",
    "    # spark.catalog.dropTempView(name)\n",
    "    # spark.sql(f'DROP TABLE {name}')  "
   ]
  },
  {
   "cell_type": "code",
   "execution_count": 11,
   "id": "d0d8b39b-b096-42dd-b3ee-187cba25f4bd",
   "metadata": {},
   "outputs": [
    {
     "data": {
      "text/plain": [
       "{'banks': False,\n",
       " 'loans': False,\n",
       " 'action_taken': True,\n",
       " 'counties': True,\n",
       " 'denial_reason': True,\n",
       " 'ethnicity': True,\n",
       " 'loan_purpose': True,\n",
       " 'loan_type': True,\n",
       " 'preapproval': True,\n",
       " 'property_type': True,\n",
       " 'race': True,\n",
       " 'sex': True,\n",
       " 'states': True,\n",
       " 'tracts': True}"
      ]
     },
     "execution_count": 11,
     "metadata": {},
     "output_type": "execute_result"
    }
   ],
   "source": [
    "#q4\n",
    "output_dict = {}\n",
    "for row in spark.sql(\"SHOW TABLES\").collect():\n",
    "   output_dict[row[1]] = row[2]\n",
    "output_dict"
   ]
  },
  {
   "cell_type": "code",
   "execution_count": 12,
   "id": "1bbd2bfb-f00c-4243-bba1-6f00ade66498",
   "metadata": {},
   "outputs": [
    {
     "name": "stderr",
     "output_type": "stream",
     "text": [
      "                                                                                \r"
     ]
    },
    {
     "data": {
      "text/plain": [
       "19739"
      ]
     },
     "execution_count": 12,
     "metadata": {},
     "output_type": "execute_result"
    }
   ],
   "source": [
    "#q5\n",
    "q5 = spark.sql(\"\"\"\n",
    "SELECT COUNT(*) AS loan_count\n",
    "FROM loans\n",
    "INNER JOIN banks ON loans.lei = banks.lei_2020\n",
    "WHERE banks.respondent_name = 'University of Wisconsin Credit Union' \n",
    "\"\"\")\n",
    "q5.collect()[0][0]"
   ]
  },
  {
   "cell_type": "code",
   "execution_count": 13,
   "id": "456ddc94-3364-4a25-bc2b-4adfa0de4661",
   "metadata": {},
   "outputs": [
    {
     "name": "stdout",
     "output_type": "stream",
     "text": [
      "== Physical Plan ==\n",
      "AdaptiveSparkPlan (25)\n",
      "+- == Final Plan ==\n",
      "   * HashAggregate (15)\n",
      "   +- ShuffleQueryStage (14), Statistics(sizeInBytes=32.0 B, rowCount=2)\n",
      "      +- Exchange (13)\n",
      "         +- * HashAggregate (12)\n",
      "            +- * Project (11)\n",
      "               +- * BroadcastHashJoin Inner BuildRight (10)\n",
      "                  :- * Filter (3)\n",
      "                  :  +- * ColumnarToRow (2)\n",
      "                  :     +- Scan parquet spark_catalog.default.loans (1)\n",
      "                  +- BroadcastQueryStage (9), Statistics(sizeInBytes=8.0 MiB, rowCount=1)\n",
      "                     +- BroadcastExchange (8)\n",
      "                        +- * Project (7)\n",
      "                           +- * Filter (6)\n",
      "                              +- * ColumnarToRow (5)\n",
      "                                 +- Scan parquet spark_catalog.default.banks (4)\n",
      "+- == Initial Plan ==\n",
      "   HashAggregate (24)\n",
      "   +- Exchange (23)\n",
      "      +- HashAggregate (22)\n",
      "         +- Project (21)\n",
      "            +- BroadcastHashJoin Inner BuildRight (20)\n",
      "               :- Filter (16)\n",
      "               :  +- Scan parquet spark_catalog.default.loans (1)\n",
      "               +- BroadcastExchange (19)\n",
      "                  +- Project (18)\n",
      "                     +- Filter (17)\n",
      "                        +- Scan parquet spark_catalog.default.banks (4)\n",
      "\n",
      "\n",
      "(1) Scan parquet spark_catalog.default.loans\n",
      "Output [1]: [lei#781]\n",
      "Batched: true\n",
      "Bucketed: false (bucket column(s) not read)\n",
      "Location: InMemoryFileIndex [hdfs://nn:9000/user/hive/warehouse/loans]\n",
      "PushedFilters: [IsNotNull(lei)]\n",
      "ReadSchema: struct<lei:string>\n",
      "\n",
      "(2) ColumnarToRow [codegen id : 2]\n",
      "Input [1]: [lei#781]\n",
      "\n",
      "(3) Filter [codegen id : 2]\n",
      "Input [1]: [lei#781]\n",
      "Condition : isnotnull(lei#781)\n",
      "\n",
      "(4) Scan parquet spark_catalog.default.banks\n",
      "Output [2]: [respondent_name#56, lei_2020#60]\n",
      "Batched: true\n",
      "Location: InMemoryFileIndex [hdfs://nn:9000/user/hive/warehouse/banks]\n",
      "PushedFilters: [IsNotNull(respondent_name), EqualTo(respondent_name,University of Wisconsin Credit Union), IsNotNull(lei_2020)]\n",
      "ReadSchema: struct<respondent_name:string,lei_2020:string>\n",
      "\n",
      "(5) ColumnarToRow [codegen id : 1]\n",
      "Input [2]: [respondent_name#56, lei_2020#60]\n",
      "\n",
      "(6) Filter [codegen id : 1]\n",
      "Input [2]: [respondent_name#56, lei_2020#60]\n",
      "Condition : ((isnotnull(respondent_name#56) AND (respondent_name#56 = University of Wisconsin Credit Union)) AND isnotnull(lei_2020#60))\n",
      "\n",
      "(7) Project [codegen id : 1]\n",
      "Output [1]: [lei_2020#60]\n",
      "Input [2]: [respondent_name#56, lei_2020#60]\n",
      "\n",
      "(8) BroadcastExchange\n",
      "Input [1]: [lei_2020#60]\n",
      "Arguments: HashedRelationBroadcastMode(List(input[0, string, true]),false), [plan_id=511]\n",
      "\n",
      "(9) BroadcastQueryStage\n",
      "Output [1]: [lei_2020#60]\n",
      "Arguments: 0\n",
      "\n",
      "(10) BroadcastHashJoin [codegen id : 2]\n",
      "Left keys [1]: [lei#781]\n",
      "Right keys [1]: [lei_2020#60]\n",
      "Join type: Inner\n",
      "Join condition: None\n",
      "\n",
      "(11) Project [codegen id : 2]\n",
      "Output: []\n",
      "Input [2]: [lei#781, lei_2020#60]\n",
      "\n",
      "(12) HashAggregate [codegen id : 2]\n",
      "Input: []\n",
      "Keys: []\n",
      "Functions [1]: [partial_count(1)]\n",
      "Aggregate Attributes [1]: [count#881L]\n",
      "Results [1]: [count#882L]\n",
      "\n",
      "(13) Exchange\n",
      "Input [1]: [count#882L]\n",
      "Arguments: SinglePartition, ENSURE_REQUIREMENTS, [plan_id=569]\n",
      "\n",
      "(14) ShuffleQueryStage\n",
      "Output [1]: [count#882L]\n",
      "Arguments: 1\n",
      "\n",
      "(15) HashAggregate [codegen id : 3]\n",
      "Input [1]: [count#882L]\n",
      "Keys: []\n",
      "Functions [1]: [count(1)]\n",
      "Aggregate Attributes [1]: [count(1)#779L]\n",
      "Results [1]: [count(1)#779L AS loan_count#778L]\n",
      "\n",
      "(16) Filter\n",
      "Input [1]: [lei#781]\n",
      "Condition : isnotnull(lei#781)\n",
      "\n",
      "(17) Filter\n",
      "Input [2]: [respondent_name#56, lei_2020#60]\n",
      "Condition : ((isnotnull(respondent_name#56) AND (respondent_name#56 = University of Wisconsin Credit Union)) AND isnotnull(lei_2020#60))\n",
      "\n",
      "(18) Project\n",
      "Output [1]: [lei_2020#60]\n",
      "Input [2]: [respondent_name#56, lei_2020#60]\n",
      "\n",
      "(19) BroadcastExchange\n",
      "Input [1]: [lei_2020#60]\n",
      "Arguments: HashedRelationBroadcastMode(List(input[0, string, true]),false), [plan_id=480]\n",
      "\n",
      "(20) BroadcastHashJoin\n",
      "Left keys [1]: [lei#781]\n",
      "Right keys [1]: [lei_2020#60]\n",
      "Join type: Inner\n",
      "Join condition: None\n",
      "\n",
      "(21) Project\n",
      "Output: []\n",
      "Input [2]: [lei#781, lei_2020#60]\n",
      "\n",
      "(22) HashAggregate\n",
      "Input: []\n",
      "Keys: []\n",
      "Functions [1]: [partial_count(1)]\n",
      "Aggregate Attributes [1]: [count#881L]\n",
      "Results [1]: [count#882L]\n",
      "\n",
      "(23) Exchange\n",
      "Input [1]: [count#882L]\n",
      "Arguments: SinglePartition, ENSURE_REQUIREMENTS, [plan_id=485]\n",
      "\n",
      "(24) HashAggregate\n",
      "Input [1]: [count#882L]\n",
      "Keys: []\n",
      "Functions [1]: [count(1)]\n",
      "Aggregate Attributes [1]: [count(1)#779L]\n",
      "Results [1]: [count(1)#779L AS loan_count#778L]\n",
      "\n",
      "(25) AdaptiveSparkPlan\n",
      "Output [1]: [loan_count#778L]\n",
      "Arguments: isFinalPlan=true\n",
      "\n",
      "\n"
     ]
    }
   ],
   "source": [
    "#q6\n",
    "q5.explain(\"formatted\")\n",
    "# question 1:\n",
    "# \"banks\" table sent to every executor via a BroadcastExchange operation.\n",
    "# \n",
    "# question 2:\n",
    "# Yes, the plan involves HashAggregate: partial_count() and count() "
   ]
  },
  {
   "cell_type": "code",
   "execution_count": 14,
   "id": "8ece88bc-f26c-48df-8a3a-512a17005f17",
   "metadata": {
    "scrolled": true
   },
   "outputs": [
    {
     "name": "stderr",
     "output_type": "stream",
     "text": [
      "                                                                                \r"
     ]
    },
    {
     "data": {
      "text/plain": [
       "{'Milwaukee': 3.1173465727097907,\n",
       " 'Waukesha': 2.8758225602027756,\n",
       " 'Washington': 2.851009389671362,\n",
       " 'Dane': 2.890674955595027,\n",
       " 'Brown': 3.010949119373777,\n",
       " 'Racine': 3.099783715012723,\n",
       " 'Outagamie': 2.979661835748792,\n",
       " 'Winnebago': 3.0284761904761908,\n",
       " 'Ozaukee': 2.8673765432098772,\n",
       " 'Sheboygan': 2.995511111111111}"
      ]
     },
     "execution_count": 14,
     "metadata": {},
     "output_type": "execute_result"
    },
    {
     "data": {
      "image/png": "[encoded data removed]",
      "text/plain": [
       "<Figure size 640x480 with 1 Axes>"
      ]
     },
     "metadata": {},
     "output_type": "display_data"
    }
   ],
   "source": [
    "#q7\n",
    "wells_fargo_df = spark.sql(\"\"\"\n",
    "SELECT *\n",
    "FROM loans\n",
    "INNER JOIN banks ON loans.lei = banks.lei_2020\n",
    "WHERE LOWER(banks.respondent_name) LIKE '%wells fargo%'\n",
    "\"\"\")\n",
    "wells_fargo_df.createOrReplaceTempView('wells_fargo')\n",
    "\n",
    "q7 = spark.sql(\"\"\"\n",
    "SELECT NAME, AVG(interest_rate) as avg_rt\n",
    "FROM wells_fargo\n",
    "LEFT JOIN counties ON INT(wells_fargo.county_code/1000) = counties.STATE AND INT(wells_fargo.county_code%1000) = counties.COUNTY\n",
    "GROUP BY NAME\n",
    "ORDER BY COUNT(*) DESC\n",
    "LIMIT 10\n",
    "\"\"\")\n",
    "\n",
    "spark.catalog.dropTempView('wells_fargo')\n",
    "output_dict = {}\n",
    "for row in q7.collect():\n",
    "   output_dict[row[0]] = row[1]\n",
    "\n",
    "q7 = q7.toPandas().set_index(\"NAME\")\n",
    "q7.plot.bar(legend=None, ylabel=\"Average Interest Rate\", xlabel=\"name\")\n",
    "output_dict\n"
   ]
  },
  {
   "cell_type": "code",
   "execution_count": 15,
   "id": "16ed1711-1ba6-4ff1-8abc-1c0b73b76e5c",
   "metadata": {},
   "outputs": [
    {
     "name": "stdout",
     "output_type": "stream",
     "text": [
      "== Physical Plan ==\n",
      "AdaptiveSparkPlan isFinalPlan=false\n",
      "+- HashAggregate(keys=[county_code#784], functions=[avg(cast(interest_rate#803 as double))])\n",
      "   +- HashAggregate(keys=[county_code#784], functions=[partial_avg(cast(interest_rate#803 as double))])\n",
      "      +- FileScan parquet spark_catalog.default.loans[county_code#784,interest_rate#803] Batched: true, Bucketed: true, DataFilters: [], Format: Parquet, Location: InMemoryFileIndex(1 paths)[hdfs://nn:9000/user/hive/warehouse/loans], PartitionFilters: [], PushedFilters: [], ReadSchema: struct<county_code:string,interest_rate:string>, SelectedBucketsCount: 8 out of 8\n",
      "\n",
      "\n",
      "== Physical Plan ==\n",
      "AdaptiveSparkPlan isFinalPlan=false\n",
      "+- HashAggregate(keys=[lei#781], functions=[avg(cast(interest_rate#803 as double))])\n",
      "   +- Exchange hashpartitioning(lei#781, 200), ENSURE_REQUIREMENTS, [plan_id=882]\n",
      "      +- HashAggregate(keys=[lei#781], functions=[partial_avg(cast(interest_rate#803 as double))])\n",
      "         +- FileScan parquet spark_catalog.default.loans[lei#781,interest_rate#803] Batched: true, Bucketed: false (bucket column(s) not read), DataFilters: [], Format: Parquet, Location: InMemoryFileIndex(1 paths)[hdfs://nn:9000/user/hive/warehouse/loans], PartitionFilters: [], PushedFilters: [], ReadSchema: struct<lei:string,interest_rate:string>\n",
      "\n",
      "\n"
     ]
    }
   ],
   "source": [
    "#q8\n",
    "# Observe that there is \"Exchange hashpartitioning\" exists when GROUP BY lei. This occurs since we split\n",
    "# the whole dataset into bucket bt county_code, so there is no Network I/O invovled there, but not lei.\n",
    "# So, there is Network I/O to regroup and repartition when need to access all value of lei.\n",
    "spark.sql(\"\"\"\n",
    "SELECT AVG(interest_rate)\n",
    "FROM loans\n",
    "GROUP BY county_code\n",
    "\"\"\").explain()\n",
    "\n",
    "spark.sql(\"\"\"\n",
    "SELECT AVG(interest_rate)\n",
    "FROM loans\n",
    "GROUP BY lei\n",
    "\"\"\").explain()"
   ]
  },
  {
   "cell_type": "code",
   "execution_count": 16,
   "id": "88b7c12f-94c1-4987-a3b0-295b1c500b99",
   "metadata": {},
   "outputs": [],
   "source": [
    "from pyspark.sql.functions import expr, when, col\n",
    "\n",
    "action_taken_df = spark.read.csv(\"hdfs://nn:9000/action_taken.csv\", header=True, inferSchema=True)\n",
    "df = loans_df.withColumnRenamed(\"action_taken\", \"id\").join(action_taken_df, 'id', 'inner')\n",
    "df = df.withColumn(\n",
    "    \"approval\",\n",
    "    when(df.action_taken == 'Loan originated', 1)\n",
    "    .otherwise(0)\n",
    ")\n",
    "df = df.select(\"loan_amount\", \"income\", \"interest_rate\", \"approval\")\n",
    "df = df.withColumn(\"loan_amount\", col(\"loan_amount\").cast(\"double\"))\n",
    "df = df.withColumn(\"income\", col(\"income\").cast(\"double\"))\n",
    "df = df.withColumn(\"interest_rate\", col(\"interest_rate\").cast(\"double\"))\n",
    "df = df.fillna(0.0)"
   ]
  },
  {
   "cell_type": "code",
   "execution_count": 17,
   "id": "43ad85d9-2b61-4017-9cb1-cc074fa2c0ff",
   "metadata": {},
   "outputs": [
    {
     "data": {
      "text/plain": [
       "DataFrame[loan_amount: double, income: double, interest_rate: double, approval: int]"
      ]
     },
     "execution_count": 17,
     "metadata": {},
     "output_type": "execute_result"
    }
   ],
   "source": [
    "train, test = df.randomSplit([0.8, 0.2], seed=41) \n",
    "train.cache()"
   ]
  },
  {
   "cell_type": "code",
   "execution_count": 18,
   "id": "0004d87b-7005-494e-b2b3-67eb00d5ffdc",
   "metadata": {},
   "outputs": [
    {
     "name": "stderr",
     "output_type": "stream",
     "text": [
      "                                                                                \r"
     ]
    },
    {
     "data": {
      "text/plain": [
       "242855"
      ]
     },
     "execution_count": 18,
     "metadata": {},
     "output_type": "execute_result"
    }
   ],
   "source": [
    "#q9\n",
    "train.filter(expr(\"approval = 1\")).count() "
   ]
  },
  {
   "cell_type": "code",
   "execution_count": 19,
   "id": "8e9e6c4a-0263-4ba1-bc1c-939c8adaed01",
   "metadata": {},
   "outputs": [
    {
     "name": "stderr",
     "output_type": "stream",
     "text": [
      "                                                                                \r"
     ]
    },
    {
     "data": {
      "text/plain": [
       "0.8931228007661128"
      ]
     },
     "execution_count": 19,
     "metadata": {},
     "output_type": "execute_result"
    }
   ],
   "source": [
    "#q10\n",
    "from pyspark.ml.feature import VectorAssembler\n",
    "from pyspark.ml.classification import DecisionTreeClassifier\n",
    "from pyspark.ml.pipeline import Pipeline\n",
    "\n",
    "va = VectorAssembler(inputCols=[\"loan_amount\", \"income\", \"interest_rate\"], outputCol = \"features\")\n",
    "dt = DecisionTreeClassifier(featuresCol=\"features\", labelCol=\"approval\", maxDepth=5)\n",
    "pipe = Pipeline(stages=[va, dt])\n",
    "model = pipe.fit(train)\n",
    "model.transform(test).filter(expr(\"prediction = approval\")).count() / model.transform(test).count()"
   ]
  },
  {
   "cell_type": "code",
   "execution_count": 20,
   "id": "756eefab-7439-4718-9dd7-24018f767c01",
   "metadata": {},
   "outputs": [
    {
     "data": {
      "text/plain": [
       "DataFrame[loan_amount: double, income: double, interest_rate: double, approval: int]"
      ]
     },
     "execution_count": 20,
     "metadata": {},
     "output_type": "execute_result"
    }
   ],
   "source": [
    "train.unpersist()"
   ]
  }
 ],
 "metadata": {
  "kernelspec": {
   "display_name": "Python 3 (ipykernel)",
   "language": "python",
   "name": "python3"
  },
  "language_info": {
   "codemirror_mode": {
    "name": "ipython",
    "version": 3
   },
   "file_extension": ".py",
   "mimetype": "text/x-python",
   "name": "python",
   "nbconvert_exporter": "python",
   "pygments_lexer": "ipython3",
   "version": "3.10.12"
  }
 },
 "nbformat": 4,
 "nbformat_minor": 5
}
