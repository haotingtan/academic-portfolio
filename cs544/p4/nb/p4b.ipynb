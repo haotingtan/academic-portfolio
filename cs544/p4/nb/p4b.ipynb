{
 "cells": [
  {
   "cell_type": "code",
   "execution_count": 1,
   "id": "5e2be387-d12c-4acb-957a-8c1675f5f676",
   "metadata": {},
   "outputs": [],
   "source": [
    "# project 4 notebook b"
   ]
  },
  {
   "cell_type": "code",
   "execution_count": 2,
   "id": "df58a73c-7422-4d34-b752-5ab065728355",
   "metadata": {},
   "outputs": [
    {
     "name": "stdout",
     "output_type": "stream",
     "text": [
      "Configured Capacity: 25821052928 (24.05 GB)\n",
      "Present Capacity: 17506351957 (16.30 GB)\n",
      "DFS Remaining: 17243529216 (16.06 GB)\n",
      "DFS Used: 262822741 (250.65 MB)\n",
      "DFS Used%: 1.50%\n",
      "Replicated Blocks:\n",
      "\tUnder replicated blocks: 167\n",
      "\tBlocks with corrupt replicas: 0\n",
      "\tMissing blocks: 85\n",
      "\tMissing blocks (with replication factor 1): 85\n",
      "\tLow redundancy blocks with highest priority to recover: 167\n",
      "\tPending deletion blocks: 0\n",
      "Erasure Coded Block Groups: \n",
      "\tLow redundancy block groups: 0\n",
      "\tBlock groups with corrupt internal blocks: 0\n",
      "\tMissing block groups: 0\n",
      "\tLow redundancy blocks with highest priority to recover: 0\n",
      "\tPending deletion blocks: 0\n",
      "\n",
      "-------------------------------------------------\n",
      "Live datanodes (1):\n",
      "\n",
      "Name: 172.18.0.4:9866 (p4-dn-1.p4_default)\n",
      "Hostname: 18e00c58ba78\n",
      "Decommission Status : Normal\n",
      "Configured Capacity: 25821052928 (24.05 GB)\n",
      "DFS Used: 262822741 (250.65 MB)\n",
      "Non DFS Used: 8297923755 (7.73 GB)\n",
      "DFS Remaining: 17243529216 (16.06 GB)\n",
      "DFS Used%: 1.02%\n",
      "DFS Remaining%: 66.78%\n",
      "Configured Cache Capacity: 0 (0 B)\n",
      "Cache Used: 0 (0 B)\n",
      "Cache Remaining: 0 (0 B)\n",
      "Cache Used%: 100.00%\n",
      "Cache Remaining%: 0.00%\n",
      "Xceivers: 0\n",
      "Last contact: Wed Oct 25 20:03:56 GMT 2023\n",
      "Last Block Report: Wed Oct 25 19:57:15 GMT 2023\n",
      "Num of Blocks: 249\n",
      "\n",
      "\n",
      "Dead datanodes (1):\n",
      "\n",
      "Name: 172.18.0.5:9866 (172.18.0.5)\n",
      "Hostname: 00e8e0912048\n",
      "Decommission Status : Normal\n",
      "Configured Capacity: 25821052928 (24.05 GB)\n",
      "DFS Used: 266162471 (253.83 MB)\n",
      "Non DFS Used: 8294543065 (7.72 GB)\n",
      "DFS Remaining: 17243570176 (16.06 GB)\n",
      "DFS Used%: 1.03%\n",
      "DFS Remaining%: 66.78%\n",
      "Configured Cache Capacity: 0 (0 B)\n",
      "Cache Used: 0 (0 B)\n",
      "Cache Remaining: 0 (0 B)\n",
      "Cache Used%: 100.00%\n",
      "Cache Remaining%: 0.00%\n",
      "Xceivers: 0\n",
      "Last contact: Wed Oct 25 20:01:50 GMT 2023\n",
      "Last Block Report: Wed Oct 25 19:57:15 GMT 2023\n",
      "Num of Blocks: 0\n",
      "\n",
      "\n"
     ]
    }
   ],
   "source": [
    "#q8\n",
    "!hdfs dfsadmin -fs hdfs://boss:9000 -report"
   ]
  },
  {
   "cell_type": "code",
   "execution_count": 3,
   "id": "81f2818c-380f-4c8f-b889-696a13f95958",
   "metadata": {},
   "outputs": [],
   "source": [
    "import time\n",
    "time.sleep(30)"
   ]
  },
  {
   "cell_type": "code",
   "execution_count": 4,
   "id": "38655989-f42d-4838-835c-7b191ef31292",
   "metadata": {},
   "outputs": [
    {
     "data": {
      "text/plain": [
       "{'lost': 85, '18e00c58ba78': 82}"
      ]
     },
     "execution_count": 4,
     "metadata": {},
     "output_type": "execute_result"
    }
   ],
   "source": [
    "#q9\n",
    "import requests\n",
    "file_status_req = requests.get(\"http://boss:9870/webhdfs/v1/single.csv?op=GETFILESTATUS\")\n",
    "file_length = file_status_req.json()[\"FileStatus\"][\"length\"]\n",
    "file_block_size = file_status_req.json()[\"FileStatus\"][\"blockSize\"]\n",
    "\n",
    "container_locations = {\"lost\": 0}\n",
    "for offset in range(0, file_length, file_block_size):\n",
    "    req = requests.get(\"http://boss:9870/webhdfs/v1/single.csv?op=OPEN&offset={}&noredirect=true\".format(offset))\n",
    "    if req.status_code == 403:\n",
    "        container_locations[\"lost\"] += 1 \n",
    "    else :\n",
    "        output_str = req.json()[\"Location\"]\n",
    "        container_loc = (output_str.split(\"/\")[2].split(\":\")[0])\n",
    "        if container_loc not in container_locations:\n",
    "            container_locations[container_loc] = 1\n",
    "        else:\n",
    "            container_locations[container_loc] += 1\n",
    "\n",
    "container_locations"
   ]
  },
  {
   "cell_type": "code",
   "execution_count": 5,
   "id": "389265b0-02d9-407e-9a3d-809abb1ec2ef",
   "metadata": {},
   "outputs": [
    {
     "data": {
      "text/plain": [
       "218001"
      ]
     },
     "execution_count": 5,
     "metadata": {},
     "output_type": "execute_result"
    }
   ],
   "source": [
    "#q10\n",
    "count = 0\n",
    "target = \"Single Family\"\n",
    "\n",
    "for offset in range(0, file_length, file_block_size):\n",
    "    req = requests.get(\"http://boss:9870/webhdfs/v1/single.csv?op=OPEN&offset={}&length={}\".format(offset, file_block_size))\n",
    "    if req.status_code != 403:\n",
    "        new_line = True\n",
    "        str_buffer = (req.content).decode(\"utf-8\")\n",
    "        lines = str_buffer.split(\"\\n\")\n",
    "        for line in lines:\n",
    "            if line.find(target) != -1:\n",
    "                count += 1\n",
    "count"
   ]
  }
 ],
 "metadata": {
  "kernelspec": {
   "display_name": "Python 3 (ipykernel)",
   "language": "python",
   "name": "python3"
  },
  "language_info": {
   "codemirror_mode": {
    "name": "ipython",
    "version": 3
   },
   "file_extension": ".py",
   "mimetype": "text/x-python",
   "name": "python",
   "nbconvert_exporter": "python",
   "pygments_lexer": "ipython3",
   "version": "3.10.12"
  }
 },
 "nbformat": 4,
 "nbformat_minor": 5
}
