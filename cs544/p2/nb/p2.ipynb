{
 "cells": [
  {
   "cell_type": "code",
   "execution_count": 1,
   "id": "3b7b3ee8-ac10-4f81-9087-a5e85411696e",
   "metadata": {},
   "outputs": [],
   "source": [
    "# CS 544 Project 2"
   ]
  },
  {
   "cell_type": "code",
   "execution_count": 2,
   "id": "c75c9b42-13dd-44e8-af5a-5b46f22172a7",
   "metadata": {},
   "outputs": [],
   "source": [
    "# import statements\n",
    "import pandas as pd\n",
    "import torch"
   ]
  },
  {
   "cell_type": "code",
   "execution_count": 3,
   "id": "b48ae0bc-4973-41a0-b701-dd98094411e5",
   "metadata": {},
   "outputs": [],
   "source": [
    "df_train = pd.read_csv('train.csv')\n",
    "df_test = pd.read_csv('test.csv')\n",
    "\n",
    "df_trainX = df_train.iloc[:, :-1]\n",
    "df_trainY = df_train.iloc[:, -1:]\n",
    "df_testX = df_test.iloc[:, :-1]\n",
    "df_testY = df_test.iloc[:, -1:]\n",
    "\n",
    "trainX = torch.tensor(df_trainX.values, dtype = torch.float64)\n",
    "trainY = torch.tensor(df_trainY.values, dtype = torch.float64)\n",
    "testX = torch.tensor(df_testX.values, dtype = torch.float64)\n",
    "testY = torch.tensor(df_testY.values, dtype = torch.float64)"
   ]
  },
  {
   "cell_type": "code",
   "execution_count": 4,
   "id": "8b4077ec-7a37-4938-8298-b1fc793f9901",
   "metadata": {},
   "outputs": [
    {
     "data": {
      "text/plain": [
       "83520"
      ]
     },
     "execution_count": 4,
     "metadata": {},
     "output_type": "execute_result"
    }
   ],
   "source": [
    "#Q1\n",
    "trainX.element_size() * trainX.nelement()"
   ]
  },
  {
   "cell_type": "code",
   "execution_count": 5,
   "id": "40fff781-6f9b-4bdf-a39b-98cecfb4c5a3",
   "metadata": {},
   "outputs": [
    {
     "data": {
      "text/plain": [
       "0.0"
      ]
     },
     "execution_count": 5,
     "metadata": {},
     "output_type": "execute_result"
    }
   ],
   "source": [
    "#Q2\n",
    "trainX_float64 = trainX.clone()\n",
    "trainX_float64 = (trainX_float64.to(torch.float16)).to(torch.float64)\n",
    "diff_matrix = torch.abs(trainX_float64 - trainX)\n",
    "float(torch.max(diff_matrix))"
   ]
  },
  {
   "cell_type": "code",
   "execution_count": 6,
   "id": "02190fa6-a6cd-42ed-9b34-a4b846d2e293",
   "metadata": {},
   "outputs": [
    {
     "data": {
      "text/plain": [
       "False"
      ]
     },
     "execution_count": 6,
     "metadata": {},
     "output_type": "execute_result"
    }
   ],
   "source": [
    "#Q3\n",
    "torch.cuda.is_available()"
   ]
  },
  {
   "cell_type": "code",
   "execution_count": 7,
   "id": "4fbc976e-62a4-4f2a-96e4-6a241341a118",
   "metadata": {},
   "outputs": [
    {
     "data": {
      "text/plain": [
       "tensor([[0.0040],\n",
       "        [0.0040],\n",
       "        [0.0040],\n",
       "        [0.0040],\n",
       "        [0.0040],\n",
       "        [0.0040],\n",
       "        [0.0300],\n",
       "        [0.0300],\n",
       "        [0.0300],\n",
       "        [0.0300]], dtype=torch.float64)"
      ]
     },
     "execution_count": 7,
     "metadata": {},
     "output_type": "execute_result"
    }
   ],
   "source": [
    "# Assumptions\n",
    "coef = torch.tensor([\n",
    "        [0.0040],\n",
    "        [0.0040],\n",
    "        [0.0040],\n",
    "        [0.0040],\n",
    "        [0.0040],\n",
    "        [0.0040], # POS_50_59_CP\n",
    "        [0.0300], # POS_60_69_CP\n",
    "        [0.0300],\n",
    "        [0.0300],\n",
    "        [0.0300]\n",
    "], dtype=trainX.dtype)\n",
    "coef"
   ]
  },
  {
   "cell_type": "code",
   "execution_count": 8,
   "id": "fea771c4-3e52-425c-89ca-9c3cdd9e9645",
   "metadata": {},
   "outputs": [
    {
     "data": {
      "text/plain": [
       "9.844"
      ]
     },
     "execution_count": 8,
     "metadata": {},
     "output_type": "execute_result"
    }
   ],
   "source": [
    "#Q4\n",
    "(testX[0] @ coef).item()"
   ]
  },
  {
   "cell_type": "code",
   "execution_count": 9,
   "id": "b2441357-2b02-4856-b0f6-3bc0c9da4a24",
   "metadata": {},
   "outputs": [
    {
     "data": {
      "text/plain": [
       "12.073632183908048"
      ]
     },
     "execution_count": 9,
     "metadata": {},
     "output_type": "execute_result"
    }
   ],
   "source": [
    "#Q5\n",
    "(testX @ coef).sum().item() / testX.shape[0]"
   ]
  },
  {
   "cell_type": "code",
   "execution_count": 10,
   "id": "20432047-2131-4daf-a723-e89514ac446e",
   "metadata": {},
   "outputs": [],
   "source": [
    "def f(x):\n",
    "    return x**2 - 8*x + 19"
   ]
  },
  {
   "cell_type": "code",
   "execution_count": 11,
   "id": "451a49ec-6598-4315-b097-9d6f6abe8cd1",
   "metadata": {},
   "outputs": [
    {
     "data": {
      "text/plain": [
       "19.0"
      ]
     },
     "execution_count": 11,
     "metadata": {},
     "output_type": "execute_result"
    }
   ],
   "source": [
    "#Q6\n",
    "x = torch.tensor(0.0, requires_grad=True)\n",
    "y = f(x)\n",
    "float(y)"
   ]
  },
  {
   "cell_type": "code",
   "execution_count": 12,
   "id": "42d6e4e8-30b6-4a57-aa08-d6b9b7d9b072",
   "metadata": {},
   "outputs": [
    {
     "data": {
      "text/plain": [
       "3.999835968017578"
      ]
     },
     "execution_count": 12,
     "metadata": {},
     "output_type": "execute_result"
    }
   ],
   "source": [
    "#Q7\n",
    "optimizer = torch.optim.SGD([x], maximize=False, lr=0.01)\n",
    "for epoch in range(500):\n",
    "    y = f(x)\n",
    "    y.backward()\n",
    "    optimizer.step()\n",
    "    optimizer.zero_grad()\n",
    "float(x)"
   ]
  },
  {
   "cell_type": "code",
   "execution_count": 13,
   "id": "cd92c76b-68be-47ec-af5a-a2774f139030",
   "metadata": {},
   "outputs": [],
   "source": [
    "coef = torch.zeros((10, 1), dtype = torch.float64, requires_grad=True)"
   ]
  },
  {
   "cell_type": "code",
   "execution_count": 14,
   "id": "4a68417c-0414-42c1-aaac-13747197689a",
   "metadata": {},
   "outputs": [
    {
     "data": {
      "text/plain": [
       "197.8007662835249"
      ]
     },
     "execution_count": 14,
     "metadata": {},
     "output_type": "execute_result"
    }
   ],
   "source": [
    "#Q8\n",
    "(((trainX @ coef) - trainY)**2).sum().item() / trainY.shape[0]"
   ]
  },
  {
   "cell_type": "code",
   "execution_count": 15,
   "id": "0c56f87f-6723-4d94-8457-92e2808077c5",
   "metadata": {},
   "outputs": [
    {
     "data": {
      "text/plain": [
       "26.8113940147193"
      ]
     },
     "execution_count": 15,
     "metadata": {},
     "output_type": "execute_result"
    }
   ],
   "source": [
    "#Q9\n",
    "torch.manual_seed(544)\n",
    "loss_fn = torch.nn.MSELoss()\n",
    "ds = torch.utils.data.TensorDataset(trainX, trainY)\n",
    "dl = torch.utils.data.DataLoader(ds, batch_size=50, shuffle=True)\n",
    "\n",
    "optimizer = torch.optim.SGD([coef], lr=0.000002)\n",
    "\n",
    "for epoch in range(500):\n",
    "    for batch_X, batch_Y in dl:\n",
    "        predictions = batch_X @ coef\n",
    "        loss = loss_fn(predictions, batch_Y)\n",
    "        loss.backward()\n",
    "        optimizer.step()\n",
    "        optimizer.zero_grad()\n",
    "\n",
    "(((trainX @ coef) - trainY)**2).sum().item() / trainY.shape[0]"
   ]
  },
  {
   "cell_type": "code",
   "execution_count": 16,
   "id": "28f70d84-dc23-41ad-bb33-ebc432981048",
   "metadata": {},
   "outputs": [
    {
     "data": {
      "text/plain": [
       "29.05854692548551"
      ]
     },
     "execution_count": 16,
     "metadata": {},
     "output_type": "execute_result"
    }
   ],
   "source": [
    "#Q10\n",
    "(((testX @ coef) - testY)**2).sum().item() / testY.shape[0]"
   ]
  }
 ],
 "metadata": {
  "kernelspec": {
   "display_name": "Python 3 (ipykernel)",
   "language": "python",
   "name": "python3"
  },
  "language_info": {
   "codemirror_mode": {
    "name": "ipython",
    "version": 3
   },
   "file_extension": ".py",
   "mimetype": "text/x-python",
   "name": "python",
   "nbconvert_exporter": "python",
   "pygments_lexer": "ipython3",
   "version": "3.11.5"
  }
 },
 "nbformat": 4,
 "nbformat_minor": 5
}
